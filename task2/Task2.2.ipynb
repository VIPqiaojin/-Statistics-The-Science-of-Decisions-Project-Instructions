{
 "cells": [
  {
   "cell_type": "markdown",
   "metadata": {},
   "source": [
    "提出问题：泰坦尼克号的存活率是否有一定规律？\n",
    "- 存活率是否和席别有关？\n",
    "- 存活率是否和性别有关？\n",
    "- 年龄的区间是否与存活率相关？\n",
    "- 独自一人和有亲友相伴的存活率是否一致？"
   ]
  },
  {
   "cell_type": "markdown",
   "metadata": {},
   "source": [
    "## 导入"
   ]
  },
  {
   "cell_type": "code",
   "execution_count": 21,
   "metadata": {
    "collapsed": false
   },
   "outputs": [
    {
     "data": {
      "text/html": [
       "<div>\n",
       "<style>\n",
       "    .dataframe thead tr:only-child th {\n",
       "        text-align: right;\n",
       "    }\n",
       "\n",
       "    .dataframe thead th {\n",
       "        text-align: left;\n",
       "    }\n",
       "\n",
       "    .dataframe tbody tr th {\n",
       "        vertical-align: top;\n",
       "    }\n",
       "</style>\n",
       "<table border=\"1\" class=\"dataframe\">\n",
       "  <thead>\n",
       "    <tr style=\"text-align: right;\">\n",
       "      <th></th>\n",
       "      <th>PassengerId</th>\n",
       "      <th>Survived</th>\n",
       "      <th>Pclass</th>\n",
       "      <th>Age</th>\n",
       "      <th>SibSp</th>\n",
       "      <th>Parch</th>\n",
       "      <th>Fare</th>\n",
       "      <th>Survived.1</th>\n",
       "      <th>female</th>\n",
       "    </tr>\n",
       "  </thead>\n",
       "  <tbody>\n",
       "    <tr>\n",
       "      <th>count</th>\n",
       "      <td>891.000000</td>\n",
       "      <td>891.000000</td>\n",
       "      <td>891.000000</td>\n",
       "      <td>714.000000</td>\n",
       "      <td>891.000000</td>\n",
       "      <td>891.000000</td>\n",
       "      <td>891.000000</td>\n",
       "      <td>891.000000</td>\n",
       "      <td>7.0</td>\n",
       "    </tr>\n",
       "    <tr>\n",
       "      <th>mean</th>\n",
       "      <td>446.000000</td>\n",
       "      <td>0.383838</td>\n",
       "      <td>2.308642</td>\n",
       "      <td>29.699118</td>\n",
       "      <td>0.523008</td>\n",
       "      <td>0.381594</td>\n",
       "      <td>32.204208</td>\n",
       "      <td>0.383838</td>\n",
       "      <td>1.0</td>\n",
       "    </tr>\n",
       "    <tr>\n",
       "      <th>std</th>\n",
       "      <td>257.353842</td>\n",
       "      <td>0.486592</td>\n",
       "      <td>0.836071</td>\n",
       "      <td>14.526497</td>\n",
       "      <td>1.102743</td>\n",
       "      <td>0.806057</td>\n",
       "      <td>49.693429</td>\n",
       "      <td>0.486592</td>\n",
       "      <td>0.0</td>\n",
       "    </tr>\n",
       "    <tr>\n",
       "      <th>min</th>\n",
       "      <td>1.000000</td>\n",
       "      <td>0.000000</td>\n",
       "      <td>1.000000</td>\n",
       "      <td>0.420000</td>\n",
       "      <td>0.000000</td>\n",
       "      <td>0.000000</td>\n",
       "      <td>0.000000</td>\n",
       "      <td>0.000000</td>\n",
       "      <td>1.0</td>\n",
       "    </tr>\n",
       "    <tr>\n",
       "      <th>25%</th>\n",
       "      <td>223.500000</td>\n",
       "      <td>0.000000</td>\n",
       "      <td>2.000000</td>\n",
       "      <td>20.125000</td>\n",
       "      <td>0.000000</td>\n",
       "      <td>0.000000</td>\n",
       "      <td>7.910400</td>\n",
       "      <td>0.000000</td>\n",
       "      <td>1.0</td>\n",
       "    </tr>\n",
       "    <tr>\n",
       "      <th>50%</th>\n",
       "      <td>446.000000</td>\n",
       "      <td>0.000000</td>\n",
       "      <td>3.000000</td>\n",
       "      <td>28.000000</td>\n",
       "      <td>0.000000</td>\n",
       "      <td>0.000000</td>\n",
       "      <td>14.454200</td>\n",
       "      <td>0.000000</td>\n",
       "      <td>1.0</td>\n",
       "    </tr>\n",
       "    <tr>\n",
       "      <th>75%</th>\n",
       "      <td>668.500000</td>\n",
       "      <td>1.000000</td>\n",
       "      <td>3.000000</td>\n",
       "      <td>38.000000</td>\n",
       "      <td>1.000000</td>\n",
       "      <td>0.000000</td>\n",
       "      <td>31.000000</td>\n",
       "      <td>1.000000</td>\n",
       "      <td>1.0</td>\n",
       "    </tr>\n",
       "    <tr>\n",
       "      <th>max</th>\n",
       "      <td>891.000000</td>\n",
       "      <td>1.000000</td>\n",
       "      <td>3.000000</td>\n",
       "      <td>80.000000</td>\n",
       "      <td>8.000000</td>\n",
       "      <td>6.000000</td>\n",
       "      <td>512.329200</td>\n",
       "      <td>1.000000</td>\n",
       "      <td>1.0</td>\n",
       "    </tr>\n",
       "  </tbody>\n",
       "</table>\n",
       "</div>"
      ],
      "text/plain": [
       "       PassengerId    Survived      Pclass         Age       SibSp  \\\n",
       "count   891.000000  891.000000  891.000000  714.000000  891.000000   \n",
       "mean    446.000000    0.383838    2.308642   29.699118    0.523008   \n",
       "std     257.353842    0.486592    0.836071   14.526497    1.102743   \n",
       "min       1.000000    0.000000    1.000000    0.420000    0.000000   \n",
       "25%     223.500000    0.000000    2.000000   20.125000    0.000000   \n",
       "50%     446.000000    0.000000    3.000000   28.000000    0.000000   \n",
       "75%     668.500000    1.000000    3.000000   38.000000    1.000000   \n",
       "max     891.000000    1.000000    3.000000   80.000000    8.000000   \n",
       "\n",
       "            Parch        Fare  Survived.1  female  \n",
       "count  891.000000  891.000000  891.000000     7.0  \n",
       "mean     0.381594   32.204208    0.383838     1.0  \n",
       "std      0.806057   49.693429    0.486592     0.0  \n",
       "min      0.000000    0.000000    0.000000     1.0  \n",
       "25%      0.000000    7.910400    0.000000     1.0  \n",
       "50%      0.000000   14.454200    0.000000     1.0  \n",
       "75%      0.000000   31.000000    1.000000     1.0  \n",
       "max      6.000000  512.329200    1.000000     1.0  "
      ]
     },
     "execution_count": 21,
     "metadata": {},
     "output_type": "execute_result"
    }
   ],
   "source": [
    "import numpy as np\n",
    "import pandas as pd\n",
    "import matplotlib.pyplot as plt\n",
    "import seaborn as sns\n",
    "%matplotlib inline\n",
    "file_name=pd.read_csv('G:/Files/Study/Udacity/Task2/titanic-data.csv')\n",
    "\n",
    "population_all=len(file_name['PassengerId'])#不计算空缺的总人数\n",
    "file_name.describe()"
   ]
  },
  {
   "cell_type": "code",
   "execution_count": 22,
   "metadata": {
    "collapsed": false
   },
   "outputs": [
    {
     "name": "stdout",
     "output_type": "stream",
     "text": [
      "<class 'pandas.core.frame.DataFrame'>\n",
      "RangeIndex: 891 entries, 0 to 890\n",
      "Data columns (total 14 columns):\n",
      "PassengerId    891 non-null int64\n",
      "Survived       891 non-null int64\n",
      "Pclass         891 non-null int64\n",
      "Name           891 non-null object\n",
      "Sex            891 non-null object\n",
      "Age            714 non-null float64\n",
      "SibSp          891 non-null int64\n",
      "Parch          891 non-null int64\n",
      "Ticket         891 non-null object\n",
      "Fare           891 non-null float64\n",
      "Cabin          204 non-null object\n",
      "Embarked       889 non-null object\n",
      "Survived.1     891 non-null int64\n",
      "female         7 non-null float64\n",
      "dtypes: float64(3), int64(6), object(5)\n",
      "memory usage: 97.5+ KB\n"
     ]
    }
   ],
   "source": [
    "file_name.info()"
   ]
  },
  {
   "cell_type": "markdown",
   "metadata": {},
   "source": [
    "可以看出，在age，Cabin，Embarked中均存在缺失值，由于在分析过程中，分析pclass,sex,alone对存活率的影响均为单变量分析，其余值是否缺失对其不能造成很大影响，因此只需在单独计算age分组的存活率时处理缺失值即可，本次分析不考虑Cabin和Embarked，忽略。"
   ]
  },
  {
   "cell_type": "markdown",
   "metadata": {},
   "source": [
    "__根据pclass计算存活率__"
   ]
  },
  {
   "cell_type": "code",
   "execution_count": 23,
   "metadata": {
    "collapsed": false
   },
   "outputs": [
    {
     "data": {
      "text/plain": [
       "([<matplotlib.patches.Wedge at 0xd74dba8>,\n",
       "  <matplotlib.patches.Wedge at 0xd75c4a8>,\n",
       "  <matplotlib.patches.Wedge at 0xd75ccf8>],\n",
       " [<matplotlib.text.Text at 0xd75c160>,\n",
       "  <matplotlib.text.Text at 0xd75c9e8>,\n",
       "  <matplotlib.text.Text at 0xd76c278>])"
      ]
     },
     "execution_count": 23,
     "metadata": {},
     "output_type": "execute_result"
    },
    {
     "data": {
      "image/png": "[encoded data removed]",
      "text/plain": [
       "<matplotlib.figure.Figure at 0xc5d8080>"
      ]
     },
     "metadata": {},
     "output_type": "display_data"
    }
   ],
   "source": [
    "upper=(file_name['Pclass']==1).mean()\n",
    "middle=(file_name['Pclass']==2).mean()\n",
    "lower=(file_name['Pclass']==3).mean()\n",
    "plt.pie([upper,middle,lower],labels=['Upper','Middle','Lower'])"
   ]
  },
  {
   "cell_type": "code",
   "execution_count": 24,
   "metadata": {
    "collapsed": false
   },
   "outputs": [
    {
     "name": "stdout",
     "output_type": "stream",
     "text": [
      "Upper     0.629630\n",
      "Middle    0.472826\n",
      "Lower     0.242363\n",
      "Name: Survived, dtype: float64\n",
      "Axes(0.125,0.125;0.775x0.755)\n",
      "[[ 1.         -0.33848104]\n",
      " [-0.33848104  1.        ]]\n"
     ]
    },
    {
     "data": {
      "image/png": "[encoded data removed]",
      "text/plain": [
       "<matplotlib.figure.Figure at 0xd83f7f0>"
      ]
     },
     "metadata": {},
     "output_type": "display_data"
    }
   ],
   "source": [
    "pclass_sur_ratio=file_name.groupby('Pclass').mean()['Survived']#之前根据存活为1，分布求和求总数，计算存活率，直接改为求平均值更有效\n",
    "pclass_sur_ratio.index=('Upper','Middle','Lower')\n",
    "\n",
    "print pclass_sur_ratio\n",
    "print file_name.groupby(['Pclass','Survived'])['Survived'].count().unstack().plot(kind='bar')\n",
    "print np.corrcoef(file_name['Pclass'],file_name['Survived'])"
   ]
  },
  {
   "cell_type": "markdown",
   "metadata": {},
   "source": [
    "可以看出，Upper票类的存活率比Middle高出15.68%，比lower高出38.73%，即票类席别等级越高，存活率越高，可能为席别高则保护措施更加完善。相关系数为-0.34，相关性较差。"
   ]
  },
  {
   "cell_type": "markdown",
   "metadata": {},
   "source": [
    "__根据性别计算存活率__"
   ]
  },
  {
   "cell_type": "code",
   "execution_count": 25,
   "metadata": {
    "collapsed": false
   },
   "outputs": [
    {
     "name": "stdout",
     "output_type": "stream",
     "text": [
      "Sex\n",
      "female    0.742038\n",
      "male      0.188908\n",
      "Name: Survived, dtype: float64\n",
      "Axes(0.125,0.125;0.775x0.755)\n"
     ]
    },
    {
     "data": {
      "image/png": "[encoded data removed]",
      "text/plain": [
       "<matplotlib.figure.Figure at 0xd805908>"
      ]
     },
     "metadata": {},
     "output_type": "display_data"
    }
   ],
   "source": [
    "sex_sur_ratio=file_name.groupby('Sex').mean()['Survived']\n",
    "print sex_sur_ratio\n",
    "print file_name.groupby(['Sex','Survived'])['Survived'].count().unstack().plot(kind='bar')"
   ]
  },
  {
   "cell_type": "code",
   "execution_count": 26,
   "metadata": {
    "collapsed": false
   },
   "outputs": [
    {
     "name": "stdout",
     "output_type": "stream",
     "text": [
      "([<matplotlib.patches.Wedge object at 0x000000000DB73FD0>, <matplotlib.patches.Wedge object at 0x000000000DB838D0>], [<matplotlib.text.Text object at 0x000000000DB83588>, <matplotlib.text.Text object at 0x000000000DB83E10>])\n",
      "[[ 1.          0.54335138]\n",
      " [ 0.54335138  1.        ]]\n"
     ]
    },
    {
     "data": {
      "image/png": "[encoded data removed]",
      "text/plain": [
       "<matplotlib.figure.Figure at 0xda94f28>"
      ]
     },
     "metadata": {},
     "output_type": "display_data"
    }
   ],
   "source": [
    "female_ratio= (file_name['Sex']=='female').mean()\n",
    "male_ratio= (file_name['Sex']=='male').mean()\n",
    "file_name['female']=file_name['Sex']=='female'\n",
    "print plt.pie([female_ratio,male_ratio],labels=['female','male'])\n",
    "print np.corrcoef(file_name['female'],file_name['Survived'])"
   ]
  },
  {
   "cell_type": "markdown",
   "metadata": {},
   "source": [
    "从上面数据可以看出，女性存活率达到74%，而男性仅为19%，猜测可能是在发生事故时，男同志舍命竭力保护女同志。相关性较好，为0.54"
   ]
  },
  {
   "cell_type": "markdown",
   "metadata": {},
   "source": [
    "**根据年龄计算存活率**"
   ]
  },
  {
   "cell_type": "code",
   "execution_count": 27,
   "metadata": {
    "collapsed": false
   },
   "outputs": [
    {
     "name": "stdout",
     "output_type": "stream",
     "text": [
      "age_group\n",
      "1    0.579710\n",
      "2    0.393939\n",
      "3    0.390625\n",
      "4    0.227273\n",
      "Name: Survived, dtype: float64\n"
     ]
    },
    {
     "name": "stderr",
     "output_type": "stream",
     "text": [
      "C:\\Users\\Jin\\Anaconda2\\lib\\site-packages\\ipykernel_launcher.py:4: SettingWithCopyWarning: \n",
      "A value is trying to be set on a copy of a slice from a DataFrame.\n",
      "Try using .loc[row_indexer,col_indexer] = value instead\n",
      "\n",
      "See the caveats in the documentation: http://pandas.pydata.org/pandas-docs/stable/indexing.html#indexing-view-versus-copy\n",
      "  after removing the cwd from sys.path.\n"
     ]
    },
    {
     "name": "stdout",
     "output_type": "stream",
     "text": [
      "Axes(0.125,0.125;0.775x0.755)\n",
      "[[ 1.         -0.10123238]\n",
      " [-0.10123238  1.        ]]\n"
     ]
    },
    {
     "data": {
      "image/png": "[encoded data removed]",
      "text/plain": [
       "<matplotlib.figure.Figure at 0xdb836a0>"
      ]
     },
     "metadata": {},
     "output_type": "display_data"
    }
   ],
   "source": [
    "#年龄中存在空缺，所以先进行数据清洗，使用去除空缺后的数据计算，将年龄分为少年1(0-12)，2青年（13-39），3中年(40-59)，4老年(60及以上)\n",
    "age_file_name=file_name[file_name['Age'].isnull()==0]#使用dropna怎么用？索引怎么变为新的索引？\n",
    "\n",
    "age_file_name['age_group']=pd.cut(age_file_name['Age'],bins=[0,12,40,60,80],labels=[1,2,3,4])\n",
    "\n",
    "age_sur_ratio=age_file_name.groupby('age_group').mean()['Survived']\n",
    "\n",
    "print age_sur_ratio\n",
    "\n",
    "print age_file_name.groupby(['age_group','Survived'])['Survived'].count().unstack().plot(kind='bar')\n",
    "\n",
    "print np.corrcoef(age_file_name['age_group'],age_file_name['Survived'])"
   ]
  },
  {
   "cell_type": "code",
   "execution_count": 28,
   "metadata": {
    "collapsed": false
   },
   "outputs": [
    {
     "name": "stdout",
     "output_type": "stream",
     "text": [
      "Axes(0.125,0.125;0.775x0.755)\n"
     ]
    },
    {
     "data": {
      "image/png": "[encoded data removed]",
      "text/plain": [
       "<matplotlib.figure.Figure at 0xd7fdb38>"
      ]
     },
     "metadata": {},
     "output_type": "display_data"
    }
   ],
   "source": [
    "print file_name.boxplot(column='Age')"
   ]
  },
  {
   "cell_type": "markdown",
   "metadata": {},
   "source": [
    "从箱型图可以看出，中位年龄为29岁左右，从上述分类柱状图可以看出，少年存活比例较高为58%，青年中年都为39%，老年存活率为23%，可能原因是年轻人照顾少年朋友，增加了少年存活比例，而老年人由于年龄限制，体力不支，无法向年轻人一样逃生。综合相关系数-0.1来看，相关性较差。"
   ]
  },
  {
   "cell_type": "markdown",
   "metadata": {},
   "source": [
    "__根据sibsp和parch计算存活率__"
   ]
  },
  {
   "cell_type": "code",
   "execution_count": 29,
   "metadata": {
    "collapsed": false
   },
   "outputs": [
    {
     "name": "stdout",
     "output_type": "stream",
     "text": [
      "alone_group\n",
      "alone        0.303538\n",
      "not_alone    0.505650\n",
      "Name: Survived, dtype: float64\n",
      "Axes(0.125,0.125;0.775x0.755)\n",
      "[[ 1.          0.20336709]\n",
      " [ 0.20336709  1.        ]]\n"
     ]
    },
    {
     "data": {
      "image/png": "[encoded data removed]",
      "text/plain": [
       "<matplotlib.figure.Figure at 0xd7fd2b0>"
      ]
     },
     "metadata": {},
     "output_type": "display_data"
    }
   ],
   "source": [
    "#将没有亲朋好友看作alone,有朋友做伴看作not_alone\n",
    "file_name['alone']=file_name['SibSp']+file_name['Parch']+1\n",
    "\n",
    "file_name['alone']=file_name['alone'].apply(lambda x:2 if x>1 else x )#将>1的改为统一数字，以便后续计算相关系数\n",
    "\n",
    "file_name['alone_group']=pd.cut(file_name['alone'],bins=[0,1,2],labels=['alone','not_alone'])\n",
    "alone_sur_ratio=file_name.groupby('alone_group').mean()['Survived']\n",
    "\n",
    "print alone_sur_ratio\n",
    "print file_name.groupby(['alone_group','Survived'])['Survived'].count().unstack().plot(kind='bar')\n",
    "print np.corrcoef(file_name['alone'],file_name['Survived'])"
   ]
  },
  {
   "cell_type": "markdown",
   "metadata": {},
   "source": [
    "由存活率可以看出，独自一人为30%，有好友相伴时存活率增加至51%，可能为有亲友时，亲友互相照顾互相帮助，增加存活率。相关系数为0.2。"
   ]
  },
  {
   "cell_type": "markdown",
   "metadata": {},
   "source": [
    "__查看票价分布__"
   ]
  },
  {
   "cell_type": "markdown",
   "metadata": {
    "scrolled": false
   },
   "source": [
    "print file_name.boxplot(column='Fare')"
   ]
  },
  {
   "cell_type": "markdown",
   "metadata": {},
   "source": [
    "大多数人选择票价分布在$50以下，有个别人员花费$500票价。"
   ]
  },
  {
   "cell_type": "markdown",
   "metadata": {},
   "source": [
    "# 结论：\n",
    "\n",
    "综合考虑席别，年龄，性别，是否单独 的四个因素，可以看出性别与存活率相关性较好，相关系数0.54，计算男女性存活率显著性差异："
   ]
  },
  {
   "cell_type": "markdown",
   "metadata": {
    "collapsed": true
   },
   "source": [
    "__判断男女存活率差异是否显著__"
   ]
  },
  {
   "cell_type": "code",
   "execution_count": 30,
   "metadata": {
    "collapsed": false
   },
   "outputs": [
    {
     "name": "stdout",
     "output_type": "stream",
     "text": [
      "18.6718331773\n"
     ]
    }
   ],
   "source": [
    "sex_std=file_name.groupby('female').std()['Survived']#根据是否为女性分类，求出标准差\n",
    "female_std=sex_std[True]#女性标准差\n",
    "male_std=sex_std[False]#男性标准差\n",
    "\n",
    "sex_population=file_name.groupby('Sex').count()['Survived']#根据sex分类，求每个分类的个数\n",
    "female_len=sex_population['female']#女性总数\n",
    "male_len=sex_population['male']#男性总数\n",
    "\n",
    "female_mean = sex_sur_ratio['female']#女性均值\n",
    "male_mean = sex_sur_ratio['male']#男性均值\n",
    "\n",
    "z_sex=(female_mean-male_mean)/(np.sqrt((female_std**2/female_len)+(male_std**2/male_len)))#求出标准分\n",
    "\n",
    "print z_sex"
   ]
  },
  {
   "cell_type": "markdown",
   "metadata": {},
   "source": [
    "可以看出，标准分为18.7,根据z分表可知，概率小于0.01，差异显著，并非偶然差异，因此得出结论：总体中女性存活率大于男性。"
   ]
  },
  {
   "cell_type": "markdown",
   "metadata": {},
   "source": [
    "说明：\n",
    "- 只可以得到相关性，而不能得到因果性\n",
    "- 未分析所在船舱与生存率之间的关系"
   ]
  }
 ],
 "metadata": {
  "kernelspec": {
   "display_name": "Python 3",
   "language": "python",
   "name": "python3"
  },
  "language_info": {
   "codemirror_mode": {
    "name": "ipython",
    "version": 3
   },
   "file_extension": ".py",
   "mimetype": "text/x-python",
   "name": "python",
   "nbconvert_exporter": "python",
   "pygments_lexer": "ipython3",
   "version": "3.6.0"
  }
 },
 "nbformat": 4,
 "nbformat_minor": 2
}
