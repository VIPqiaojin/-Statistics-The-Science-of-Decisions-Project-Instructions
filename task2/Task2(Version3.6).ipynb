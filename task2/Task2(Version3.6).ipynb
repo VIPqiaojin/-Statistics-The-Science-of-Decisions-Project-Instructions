{
 "cells": [
  {
   "cell_type": "markdown",
   "metadata": {},
   "source": [
    "## 提出问题：泰坦尼克号的存活率是否有一定规律？\n",
    "1. 存活率是否和席别(Pclass)有关？\n",
    "2. 存活率是否和性别(Sex)有关？\n",
    "3. 年龄(Age)的区间是否与存活率相关？\n",
    "4. 独自一人(Alone)和有亲友相伴的存活率是否一致？"
   ]
  },
  {
   "cell_type": "markdown",
   "metadata": {},
   "source": [
    "## 导入"
   ]
  },
  {
   "cell_type": "code",
   "execution_count": 63,
   "metadata": {
    "collapsed": false,
    "scrolled": true
   },
   "outputs": [],
   "source": [
    "import numpy as np\n",
    "import pandas as pd\n",
    "import matplotlib.pyplot as plt\n",
    "import seaborn as sns\n",
    "%matplotlib inline\n",
    "file_name=pd.read_csv('titanic-data.csv')"
   ]
  },
  {
   "cell_type": "code",
   "execution_count": 64,
   "metadata": {
    "collapsed": false
   },
   "outputs": [
    {
     "data": {
      "text/html": [
       "<div>\n",
       "<style>\n",
       "    .dataframe thead tr:only-child th {\n",
       "        text-align: right;\n",
       "    }\n",
       "\n",
       "    .dataframe thead th {\n",
       "        text-align: left;\n",
       "    }\n",
       "\n",
       "    .dataframe tbody tr th {\n",
       "        vertical-align: top;\n",
       "    }\n",
       "</style>\n",
       "<table border=\"1\" class=\"dataframe\">\n",
       "  <thead>\n",
       "    <tr style=\"text-align: right;\">\n",
       "      <th></th>\n",
       "      <th>PassengerId</th>\n",
       "      <th>Survived</th>\n",
       "      <th>Pclass</th>\n",
       "      <th>Name</th>\n",
       "      <th>Sex</th>\n",
       "      <th>Age</th>\n",
       "      <th>SibSp</th>\n",
       "      <th>Parch</th>\n",
       "      <th>Ticket</th>\n",
       "      <th>Fare</th>\n",
       "      <th>Cabin</th>\n",
       "      <th>Embarked</th>\n",
       "      <th>Survived.1</th>\n",
       "      <th>female</th>\n",
       "    </tr>\n",
       "  </thead>\n",
       "  <tbody>\n",
       "    <tr>\n",
       "      <th>0</th>\n",
       "      <td>259</td>\n",
       "      <td>1</td>\n",
       "      <td>1</td>\n",
       "      <td>Ward, Miss. Anna</td>\n",
       "      <td>female</td>\n",
       "      <td>35.0</td>\n",
       "      <td>0</td>\n",
       "      <td>0</td>\n",
       "      <td>PC 17755</td>\n",
       "      <td>512.3292</td>\n",
       "      <td>NaN</td>\n",
       "      <td>C</td>\n",
       "      <td>1</td>\n",
       "      <td>1.0</td>\n",
       "    </tr>\n",
       "    <tr>\n",
       "      <th>1</th>\n",
       "      <td>680</td>\n",
       "      <td>1</td>\n",
       "      <td>1</td>\n",
       "      <td>Cardeza, Mr. Thomas Drake Martinez</td>\n",
       "      <td>male</td>\n",
       "      <td>36.0</td>\n",
       "      <td>0</td>\n",
       "      <td>1</td>\n",
       "      <td>PC 17755</td>\n",
       "      <td>512.3292</td>\n",
       "      <td>B51 B53 B55</td>\n",
       "      <td>C</td>\n",
       "      <td>1</td>\n",
       "      <td>1.0</td>\n",
       "    </tr>\n",
       "    <tr>\n",
       "      <th>2</th>\n",
       "      <td>738</td>\n",
       "      <td>1</td>\n",
       "      <td>1</td>\n",
       "      <td>Lesurer, Mr. Gustave J</td>\n",
       "      <td>male</td>\n",
       "      <td>35.0</td>\n",
       "      <td>0</td>\n",
       "      <td>0</td>\n",
       "      <td>PC 17755</td>\n",
       "      <td>512.3292</td>\n",
       "      <td>B101</td>\n",
       "      <td>C</td>\n",
       "      <td>1</td>\n",
       "      <td>1.0</td>\n",
       "    </tr>\n",
       "    <tr>\n",
       "      <th>3</th>\n",
       "      <td>28</td>\n",
       "      <td>0</td>\n",
       "      <td>1</td>\n",
       "      <td>Fortune, Mr. Charles Alexander</td>\n",
       "      <td>male</td>\n",
       "      <td>19.0</td>\n",
       "      <td>3</td>\n",
       "      <td>2</td>\n",
       "      <td>19950</td>\n",
       "      <td>263.0000</td>\n",
       "      <td>C23 C25 C27</td>\n",
       "      <td>S</td>\n",
       "      <td>0</td>\n",
       "      <td>1.0</td>\n",
       "    </tr>\n",
       "    <tr>\n",
       "      <th>4</th>\n",
       "      <td>89</td>\n",
       "      <td>1</td>\n",
       "      <td>1</td>\n",
       "      <td>Fortune, Miss. Mabel Helen</td>\n",
       "      <td>female</td>\n",
       "      <td>23.0</td>\n",
       "      <td>3</td>\n",
       "      <td>2</td>\n",
       "      <td>19950</td>\n",
       "      <td>263.0000</td>\n",
       "      <td>C23 C25 C27</td>\n",
       "      <td>S</td>\n",
       "      <td>1</td>\n",
       "      <td>1.0</td>\n",
       "    </tr>\n",
       "    <tr>\n",
       "      <th>5</th>\n",
       "      <td>342</td>\n",
       "      <td>1</td>\n",
       "      <td>1</td>\n",
       "      <td>Fortune, Miss. Alice Elizabeth</td>\n",
       "      <td>female</td>\n",
       "      <td>24.0</td>\n",
       "      <td>3</td>\n",
       "      <td>2</td>\n",
       "      <td>19950</td>\n",
       "      <td>263.0000</td>\n",
       "      <td>C23 C25 C27</td>\n",
       "      <td>S</td>\n",
       "      <td>1</td>\n",
       "      <td>1.0</td>\n",
       "    </tr>\n",
       "    <tr>\n",
       "      <th>6</th>\n",
       "      <td>439</td>\n",
       "      <td>0</td>\n",
       "      <td>1</td>\n",
       "      <td>Fortune, Mr. Mark</td>\n",
       "      <td>male</td>\n",
       "      <td>64.0</td>\n",
       "      <td>1</td>\n",
       "      <td>4</td>\n",
       "      <td>19950</td>\n",
       "      <td>263.0000</td>\n",
       "      <td>C23 C25 C27</td>\n",
       "      <td>S</td>\n",
       "      <td>0</td>\n",
       "      <td>1.0</td>\n",
       "    </tr>\n",
       "    <tr>\n",
       "      <th>7</th>\n",
       "      <td>312</td>\n",
       "      <td>1</td>\n",
       "      <td>1</td>\n",
       "      <td>Ryerson, Miss. Emily Borie</td>\n",
       "      <td>female</td>\n",
       "      <td>18.0</td>\n",
       "      <td>2</td>\n",
       "      <td>2</td>\n",
       "      <td>PC 17608</td>\n",
       "      <td>262.3750</td>\n",
       "      <td>B57 B59 B63 B66</td>\n",
       "      <td>C</td>\n",
       "      <td>1</td>\n",
       "      <td>NaN</td>\n",
       "    </tr>\n",
       "    <tr>\n",
       "      <th>8</th>\n",
       "      <td>743</td>\n",
       "      <td>1</td>\n",
       "      <td>1</td>\n",
       "      <td>Ryerson, Miss. Susan Parker \"Suzette\"</td>\n",
       "      <td>female</td>\n",
       "      <td>21.0</td>\n",
       "      <td>2</td>\n",
       "      <td>2</td>\n",
       "      <td>PC 17608</td>\n",
       "      <td>262.3750</td>\n",
       "      <td>B57 B59 B63 B66</td>\n",
       "      <td>C</td>\n",
       "      <td>1</td>\n",
       "      <td>NaN</td>\n",
       "    </tr>\n",
       "    <tr>\n",
       "      <th>9</th>\n",
       "      <td>119</td>\n",
       "      <td>0</td>\n",
       "      <td>1</td>\n",
       "      <td>Baxter, Mr. Quigg Edmond</td>\n",
       "      <td>male</td>\n",
       "      <td>24.0</td>\n",
       "      <td>0</td>\n",
       "      <td>1</td>\n",
       "      <td>PC 17558</td>\n",
       "      <td>247.5208</td>\n",
       "      <td>B58 B60</td>\n",
       "      <td>C</td>\n",
       "      <td>0</td>\n",
       "      <td>NaN</td>\n",
       "    </tr>\n",
       "  </tbody>\n",
       "</table>\n",
       "</div>"
      ],
      "text/plain": [
       "   PassengerId  Survived  Pclass                                   Name  \\\n",
       "0          259         1       1                       Ward, Miss. Anna   \n",
       "1          680         1       1     Cardeza, Mr. Thomas Drake Martinez   \n",
       "2          738         1       1                 Lesurer, Mr. Gustave J   \n",
       "3           28         0       1         Fortune, Mr. Charles Alexander   \n",
       "4           89         1       1             Fortune, Miss. Mabel Helen   \n",
       "5          342         1       1         Fortune, Miss. Alice Elizabeth   \n",
       "6          439         0       1                      Fortune, Mr. Mark   \n",
       "7          312         1       1             Ryerson, Miss. Emily Borie   \n",
       "8          743         1       1  Ryerson, Miss. Susan Parker \"Suzette\"   \n",
       "9          119         0       1               Baxter, Mr. Quigg Edmond   \n",
       "\n",
       "      Sex   Age  SibSp  Parch    Ticket      Fare            Cabin Embarked  \\\n",
       "0  female  35.0      0      0  PC 17755  512.3292              NaN        C   \n",
       "1    male  36.0      0      1  PC 17755  512.3292      B51 B53 B55        C   \n",
       "2    male  35.0      0      0  PC 17755  512.3292             B101        C   \n",
       "3    male  19.0      3      2     19950  263.0000      C23 C25 C27        S   \n",
       "4  female  23.0      3      2     19950  263.0000      C23 C25 C27        S   \n",
       "5  female  24.0      3      2     19950  263.0000      C23 C25 C27        S   \n",
       "6    male  64.0      1      4     19950  263.0000      C23 C25 C27        S   \n",
       "7  female  18.0      2      2  PC 17608  262.3750  B57 B59 B63 B66        C   \n",
       "8  female  21.0      2      2  PC 17608  262.3750  B57 B59 B63 B66        C   \n",
       "9    male  24.0      0      1  PC 17558  247.5208          B58 B60        C   \n",
       "\n",
       "   Survived.1  female  \n",
       "0           1     1.0  \n",
       "1           1     1.0  \n",
       "2           1     1.0  \n",
       "3           0     1.0  \n",
       "4           1     1.0  \n",
       "5           1     1.0  \n",
       "6           0     1.0  \n",
       "7           1     NaN  \n",
       "8           1     NaN  \n",
       "9           0     NaN  "
      ]
     },
     "execution_count": 64,
     "metadata": {},
     "output_type": "execute_result"
    }
   ],
   "source": [
    "#查看数据信息\n",
    "file_name.head(10)"
   ]
  },
  {
   "cell_type": "code",
   "execution_count": 65,
   "metadata": {
    "collapsed": false,
    "scrolled": true
   },
   "outputs": [
    {
     "name": "stdout",
     "output_type": "stream",
     "text": [
      "<class 'pandas.core.frame.DataFrame'>\n",
      "RangeIndex: 891 entries, 0 to 890\n",
      "Data columns (total 14 columns):\n",
      "PassengerId    891 non-null int64\n",
      "Survived       891 non-null int64\n",
      "Pclass         891 non-null int64\n",
      "Name           891 non-null object\n",
      "Sex            891 non-null object\n",
      "Age            714 non-null float64\n",
      "SibSp          891 non-null int64\n",
      "Parch          891 non-null int64\n",
      "Ticket         891 non-null object\n",
      "Fare           891 non-null float64\n",
      "Cabin          204 non-null object\n",
      "Embarked       889 non-null object\n",
      "Survived.1     891 non-null int64\n",
      "female         7 non-null float64\n",
      "dtypes: float64(3), int64(6), object(5)\n",
      "memory usage: 97.5+ KB\n"
     ]
    }
   ],
   "source": [
    "# 查看数据具体信息\n",
    "file_name.info()"
   ]
  },
  {
   "cell_type": "markdown",
   "metadata": {},
   "source": [
    "可以看出:\n",
    "- Pclass , Sex , Sibsp,Parch 为分类变量\n",
    "- 在age，Cabin，Embarked中均存在缺失值  \n",
    "由于本次分析的变量为:pclass,sex,alone对存活率的影响,均为单变量分析，其余值是否缺失对其不能造成很大影响，因此只需在单独计算age分组的存活率时处理缺失值即可."
   ]
  },
  {
   "cell_type": "markdown",
   "metadata": {},
   "source": [
    "### 1. 存活率是否和席别(Pclass)有关？"
   ]
  },
  {
   "cell_type": "code",
   "execution_count": 436,
   "metadata": {
    "collapsed": false
   },
   "outputs": [
    {
     "data": {
      "image/png": "[encoded data removed]",
      "text/plain": [
       "<matplotlib.figure.Figure at 0x2936b285e80>"
      ]
     },
     "metadata": {},
     "output_type": "display_data"
    }
   ],
   "source": [
    "# 存活人数情况\n",
    "file_name.groupby(['Pclass','Survived'])['Survived'].count().unstack().plot(kind='bar')\n",
    "plt.show()"
   ]
  },
  {
   "cell_type": "markdown",
   "metadata": {},
   "source": [
    "从图中可以看出 , 席别为 3 的死亡人数较高 , 席别1的存活人数较高 ."
   ]
  },
  {
   "cell_type": "code",
   "execution_count": 437,
   "metadata": {
    "collapsed": false
   },
   "outputs": [
    {
     "data": {
      "image/png": "[encoded data removed]",
      "text/plain": [
       "<matplotlib.figure.Figure at 0x2936aa846a0>"
      ]
     },
     "metadata": {},
     "output_type": "display_data"
    }
   ],
   "source": [
    "#各席别占比情况\n",
    "upper=(file_name['Pclass']==1).mean() #Pclass 值为 1(upper) 的占比\n",
    "middle=(file_name['Pclass']==2).mean() #Pclass 值为 2(middle) 的占比\n",
    "lower=(file_name['Pclass']==3).mean() #Pclass 值为 3(lower) 的占比\n",
    "plt.pie([upper,middle,lower],labels=['Upper','Middle','Lower'],autopct='%.2f%%',colors = ['red','yellowgreen','lightskyblue'],shadow = False) #做饼图表示存活率\n",
    "plt.axis(\"equal\")#绘制标准的圆形图\n",
    "plt.show()"
   ]
  },
  {
   "cell_type": "code",
   "execution_count": 438,
   "metadata": {
    "collapsed": false
   },
   "outputs": [
    {
     "name": "stdout",
     "output_type": "stream",
     "text": [
      "Upper     0.629630\n",
      "Middle    0.472826\n",
      "Lower     0.242363\n",
      "Name: Survived, dtype: float64\n",
      "-------------------------------------\n"
     ]
    },
    {
     "data": {
      "image/png": "[encoded data removed]",
      "text/plain": [
       "<matplotlib.figure.Figure at 0x2936aa84320>"
      ]
     },
     "metadata": {},
     "output_type": "display_data"
    }
   ],
   "source": [
    "#根据席别计算存活率\n",
    "pclass_sur_ratio=file_name.groupby('Pclass').mean()['Survived']#各席别存活率\n",
    "pclass_sur_ratio.index=('Upper','Middle','Lower')\n",
    "print(pclass_sur_ratio)\n",
    "print('-------------------------------------')\n",
    "pclass_sur_ratio.plot(kind='bar')\n",
    "plt.show()"
   ]
  },
  {
   "cell_type": "code",
   "execution_count": 439,
   "metadata": {
    "collapsed": false
   },
   "outputs": [
    {
     "name": "stdout",
     "output_type": "stream",
     "text": [
      "[[ 1.         -0.33848104]\n",
      " [-0.33848104  1.        ]]\n"
     ]
    }
   ],
   "source": [
    "#相关系数计算\n",
    "print (np.corrcoef(file_name['Pclass'],file_name['Survived']))"
   ]
  },
  {
   "cell_type": "markdown",
   "metadata": {},
   "source": [
    "结论:  \n",
    "- 席别3(Lower)中人数最多,而存活率最低  \n",
    "- 席别1(Upper)中人数最少,存活率最高,猜测可能为席别高则保护措施更加完善\n",
    "- 相关系数仅为0.34,表明这两个变量为为弱相关关系  "
   ]
  },
  {
   "cell_type": "markdown",
   "metadata": {},
   "source": [
    "### 2. 存活率是否和性别(Sex)有关？"
   ]
  },
  {
   "cell_type": "code",
   "execution_count": 440,
   "metadata": {
    "collapsed": false
   },
   "outputs": [
    {
     "name": "stdout",
     "output_type": "stream",
     "text": [
      "Sex\n",
      "female    314\n",
      "male      577\n",
      "Name: Survived, dtype: int64\n",
      "----------------------------------\n",
      "Sex     Survived\n",
      "female  0            81\n",
      "        1           233\n",
      "male    0           468\n",
      "        1           109\n",
      "Name: Survived, dtype: int64\n",
      "----------------------------------\n",
      "Axes(0.125,0.125;0.775x0.755)\n"
     ]
    },
    {
     "data": {
      "image/png": "[encoded data removed]",
      "text/plain": [
       "<matplotlib.figure.Figure at 0x2936ad78d30>"
      ]
     },
     "metadata": {},
     "output_type": "display_data"
    }
   ],
   "source": [
    "#存活人数情况\n",
    "sex_sur_ratio=file_name.groupby('Sex').count()['Survived']#男性人数和女性人数\n",
    "print (sex_sur_ratio)\n",
    "print('----------------------------------')\n",
    "print(file_name.groupby(['Sex','Survived'])['Survived'].count())#分别列出男性死亡与存活人数,女性死亡与存活人数\n",
    "print('----------------------------------')\n",
    "print (file_name.groupby(['Sex','Survived'])['Survived'].count().unstack().plot(kind='bar'))#输出柱状图"
   ]
  },
  {
   "cell_type": "markdown",
   "metadata": {},
   "source": [
    "从图中可以看出,女性总人数比男性少263人,但存活人数较高出124人"
   ]
  },
  {
   "cell_type": "code",
   "execution_count": 380,
   "metadata": {
    "collapsed": false
   },
   "outputs": [
    {
     "data": {
      "image/png": "[encoded data removed]",
      "text/plain": [
       "<matplotlib.figure.Figure at 0x2936add40f0>"
      ]
     },
     "metadata": {},
     "output_type": "display_data"
    }
   ],
   "source": [
    "#根据性别计算存活率\n",
    "female_ratio= (file_name['Sex']=='female').mean()#女性存活率\n",
    "male_ratio= (file_name['Sex']=='male').mean()#男性存活率\n",
    "# pclass_sur_ratio.plot(kind='bar')\n",
    "plt.bar(np.arange(2),[female_ratio,male_ratio],width= 0.5)\n",
    "plt.xticks((0, 1), ('male', 'female'))\n",
    "plt.show()"
   ]
  },
  {
   "cell_type": "code",
   "execution_count": 201,
   "metadata": {
    "collapsed": false
   },
   "outputs": [
    {
     "name": "stdout",
     "output_type": "stream",
     "text": [
      "[[ 1.          0.54335138]\n",
      " [ 0.54335138  1.        ]]\n"
     ]
    }
   ],
   "source": [
    "#计算相关系数\n",
    "print(np.corrcoef(file_name['female'],file_name['Survived'])) "
   ]
  },
  {
   "cell_type": "markdown",
   "metadata": {},
   "source": [
    "计算男女性存活率差异是否显著："
   ]
  },
  {
   "cell_type": "code",
   "execution_count": 441,
   "metadata": {
    "collapsed": false
   },
   "outputs": [
    {
     "name": "stdout",
     "output_type": "stream",
     "text": [
      "18.6718331773\n"
     ]
    }
   ],
   "source": [
    "sex_std=file_name.groupby('female').std()['Survived']#根据是否为女性分类，求出标准差\n",
    "female_std=sex_std[True]#女性标准差\n",
    "male_std=sex_std[False]#男性标准差\n",
    "\n",
    "sex_population=file_name.groupby('Sex').count()['Survived']#根据sex分类，求每个分类的个数\n",
    "female_len=sex_population['female']#女性总数\n",
    "male_len=sex_population['male']#男性总数\n",
    "\n",
    "female_mean = file_name.groupby('Sex').mean()['Survived']['female']#女性均值\n",
    "male_mean = file_name.groupby('Sex').mean()['Survived']['male']#男性均值\n",
    "\n",
    "z_sex=(female_mean-male_mean)/(np.sqrt((female_std**2/female_len)+(male_std**2/male_len)))#求出标准分\n",
    "\n",
    "print (z_sex)"
   ]
  },
  {
   "cell_type": "markdown",
   "metadata": {},
   "source": [
    "得出:  \n",
    "标准分为18.7,根据z分表可知，概率小于0.01，差异显著，并非偶然差异导致，因此得出结论：总体中女性存活率大于男性。"
   ]
  },
  {
   "cell_type": "markdown",
   "metadata": {},
   "source": [
    "结论:\n",
    "- 女性存活率达到74%，而男性仅为19%，猜测可能是在发生事故时，男同志舍命竭力保护女同志\n",
    "- Sex与存活率之间相关系数为0.54,呈现为中等相关关系"
   ]
  },
  {
   "cell_type": "markdown",
   "metadata": {},
   "source": [
    "### 3.年龄(Age)的区间是否与存活率相关？"
   ]
  },
  {
   "cell_type": "code",
   "execution_count": 385,
   "metadata": {
    "collapsed": false
   },
   "outputs": [],
   "source": [
    "#年龄中存在缺失值，先进行数据清洗\n",
    "age_file_name=file_name[file_name['Age'].isnull()==0]\n",
    "\n",
    "#file_name = file_name.drop(['Cabin','Embarked'], axis =1) #使用dropna处理空值,先删除掉不处理的含有空值的列\n",
    "#age_file_name = file_name.dropna() # 对仅含有空值的age列dropna\n",
    "\n",
    "#将年龄分为少年1(0-12)，2青年（13-39），3中年(40-59)，4老年(60及以上)\n",
    "age_file_name['age_group']=pd.cut(age_file_name['Age'],bins=[0,12,40,60,80],labels=[1,2,3,4])\n",
    "pd.options.mode.chained_assignment = None# 取消提示"
   ]
  },
  {
   "cell_type": "code",
   "execution_count": 392,
   "metadata": {
    "collapsed": false
   },
   "outputs": [
    {
     "data": {
      "text/plain": [
       "[]"
      ]
     },
     "execution_count": 392,
     "metadata": {},
     "output_type": "execute_result"
    },
    {
     "data": {
      "image/png": "[encoded data removed]",
      "text/plain": [
       "<matplotlib.figure.Figure at 0x2936ac6f828>"
      ]
     },
     "metadata": {},
     "output_type": "display_data"
    }
   ],
   "source": [
    "#查看年龄分布\n",
    "file_name.boxplot(column='Age')\n",
    "plt.plot()"
   ]
  },
  {
   "cell_type": "code",
   "execution_count": 387,
   "metadata": {
    "collapsed": false
   },
   "outputs": [
    {
     "data": {
      "image/png": "[encoded data removed]",
      "text/plain": [
       "<matplotlib.figure.Figure at 0x2936ab80a58>"
      ]
     },
     "metadata": {},
     "output_type": "display_data"
    }
   ],
   "source": [
    "#四个分组死亡和存活人数\n",
    "age_file_name.groupby(['age_group','Survived'])['Survived'].count().unstack().plot(kind='bar')\n",
    "plt.xticks((0,1,2,3), ('Kids','Youth','Middle age','Elderly'))\n",
    "plt.show()"
   ]
  },
  {
   "cell_type": "code",
   "execution_count": 382,
   "metadata": {
    "collapsed": false,
    "scrolled": true
   },
   "outputs": [
    {
     "name": "stdout",
     "output_type": "stream",
     "text": [
      "age_group\n",
      "1    0.579710\n",
      "2    0.393939\n",
      "3    0.390625\n",
      "4    0.227273\n",
      "Name: Survived, dtype: float64\n",
      "-----------------------------------------\n"
     ]
    },
    {
     "data": {
      "image/png": "[encoded data removed]",
      "text/plain": [
       "<matplotlib.figure.Figure at 0x2936b1c46d8>"
      ]
     },
     "metadata": {},
     "output_type": "display_data"
    }
   ],
   "source": [
    "#计算四个分组的生存率\n",
    "age_sur_ratio=age_file_name.groupby('age_group').mean()['Survived']\n",
    "print (age_sur_ratio)\n",
    "print (\"-----------------------------------------\")\n",
    "plt.bar(np.arange(4),age_sur_ratio,width=0.5)\n",
    "plt.xticks((0,1,2,3), ('Kids','Youth','Middle age','Elderly'))\n",
    "plt.show()"
   ]
  },
  {
   "cell_type": "code",
   "execution_count": 383,
   "metadata": {
    "collapsed": false
   },
   "outputs": [
    {
     "data": {
      "text/plain": [
       "array([[ 1.        , -0.10123238],\n",
       "       [-0.10123238,  1.        ]])"
      ]
     },
     "execution_count": 383,
     "metadata": {},
     "output_type": "execute_result"
    }
   ],
   "source": [
    "#计算相关系数\n",
    "np.corrcoef(age_file_name['age_group'],age_file_name['Survived'])"
   ]
  },
  {
   "cell_type": "markdown",
   "metadata": {},
   "source": [
    "结论:\n",
    "- 年龄分布为(0-12)的少年组存活率最高\n",
    "- 年龄分布为(>60)的老年组存活率最低\n",
    "- 年龄分布在(12-60)的青年组合中年组存活率相近  \n",
    "猜测原因是年轻人照顾少年朋友，从而增加了少年存活比例，而老年人由于年龄限制，体力不支，无法向年轻人一样逃生。但相关系数仅为-0.1,表明年龄和存活率为弱相关关系。"
   ]
  },
  {
   "cell_type": "markdown",
   "metadata": {},
   "source": [
    "### 4. 独自一人(Alone)和有亲友相伴的存活率是否一致？"
   ]
  },
  {
   "cell_type": "code",
   "execution_count": 409,
   "metadata": {
    "collapsed": false
   },
   "outputs": [],
   "source": [
    "#将没有亲朋好友看作alone,有朋友做伴看作not_alone\n",
    "file_name['alone']=file_name['SibSp']+file_name['Parch']+1\n",
    "file_name['alone']=file_name['alone'].apply(lambda x:2 if x>1 else x )#将>1的改为统一数字，以便后续计算相关系数\n",
    "\n",
    "file_name['alone_group']=pd.cut(file_name['alone'],bins=[0,1,2],labels=['Alone','NotAlone'])#0-1的数字表示独自一人,1-2表示有人相伴"
   ]
  },
  {
   "cell_type": "code",
   "execution_count": 410,
   "metadata": {
    "collapsed": false
   },
   "outputs": [
    {
     "data": {
      "image/png": "[encoded data removed]",
      "text/plain": [
       "<matplotlib.figure.Figure at 0x2936af86940>"
      ]
     },
     "metadata": {},
     "output_type": "display_data"
    }
   ],
   "source": [
    "#是否独自一人人数分布\n",
    "file_name.groupby(['alone_group','Survived'])['Survived'].count().unstack().plot(kind='bar')\n",
    "plt.show()"
   ]
  },
  {
   "cell_type": "code",
   "execution_count": 411,
   "metadata": {
    "collapsed": false
   },
   "outputs": [
    {
     "data": {
      "text/plain": [
       "alone_group\n",
       "Alone       0.303538\n",
       "NotAlone    0.505650\n",
       "Name: Survived, dtype: float64"
      ]
     },
     "execution_count": 411,
     "metadata": {},
     "output_type": "execute_result"
    }
   ],
   "source": [
    "#计算是否独自一人计算存活率\n",
    "alone_sur_ratio=file_name.groupby('alone_group').mean()['Survived']\n",
    "alone_sur_ratio"
   ]
  },
  {
   "cell_type": "code",
   "execution_count": 412,
   "metadata": {
    "collapsed": false
   },
   "outputs": [
    {
     "data": {
      "text/plain": [
       "array([[ 1.        ,  0.20336709],\n",
       "       [ 0.20336709,  1.        ]])"
      ]
     },
     "execution_count": 412,
     "metadata": {},
     "output_type": "execute_result"
    }
   ],
   "source": [
    "#计算相关系数\n",
    "np.corrcoef(file_name['alone'],file_name['Survived'])"
   ]
  },
  {
   "cell_type": "markdown",
   "metadata": {},
   "source": [
    "结论:\n",
    "- 独自一人存活率为30%，不单独时存活率增加至51%,猜测可能为有亲友时，亲友互相照顾互相帮助，增加存活率\n",
    "- 相关系数为0.2, 呈现弱相关关系\n"
   ]
  },
  {
   "cell_type": "markdown",
   "metadata": {},
   "source": [
    "注意：\n",
    "\n",
    "- 数据集中存在的缺失值，采用直接删除的方式,可能会影响整体数据\n",
    "- 样本的数据不足900条,，而实际人数约为2224人,若为随机抽样,抽样无偏,可以代表总体情况\n",
    "- 未分析所在船舱与存活率之间的关系,还有可能与自身健康状况,身高体重等等因素有关\n",
    "- 其中的分析中结论的得出有些并未使用统计检验,对结论的显著性是否有影响?**(尚有疑问)**\n",
    "- 单从数据进行分析我们只可以得到相关性，而不能得到因果性"
   ]
  }
 ],
 "metadata": {
  "kernelspec": {
   "display_name": "Python 3",
   "language": "python",
   "name": "python3"
  },
  "language_info": {
   "codemirror_mode": {
    "name": "ipython",
    "version": 3
   },
   "file_extension": ".py",
   "mimetype": "text/x-python",
   "name": "python",
   "nbconvert_exporter": "python",
   "pygments_lexer": "ipython3",
   "version": "3.6.0"
  }
 },
 "nbformat": 4,
 "nbformat_minor": 2
}
