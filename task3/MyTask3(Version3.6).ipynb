{
 "cells": [
  {
   "cell_type": "code",
   "execution_count": 1,
   "metadata": {
    "collapsed": false
   },
   "outputs": [],
   "source": [
    "#导入所需模块\n",
    "import pandas as pd\n",
    "import numpy as np"
   ]
  },
  {
   "cell_type": "code",
   "execution_count": 2,
   "metadata": {
    "collapsed": false,
    "scrolled": true
   },
   "outputs": [
    {
     "name": "stdout",
     "output_type": "stream",
     "text": [
      "<class 'pandas.core.frame.DataFrame'>\n",
      "RangeIndex: 10866 entries, 0 to 10865\n",
      "Data columns (total 21 columns):\n",
      "id                      10866 non-null int64\n",
      "imdb_id                 10856 non-null object\n",
      "popularity              10866 non-null float64\n",
      "budget                  10866 non-null int64\n",
      "revenue                 10866 non-null int64\n",
      "original_title          10866 non-null object\n",
      "cast                    10790 non-null object\n",
      "homepage                2936 non-null object\n",
      "director                10822 non-null object\n",
      "tagline                 8043 non-null object\n",
      "keywords                9373 non-null object\n",
      "overview                10862 non-null object\n",
      "runtime                 10866 non-null int64\n",
      "genres                  10843 non-null object\n",
      "production_companies    9836 non-null object\n",
      "release_date            10866 non-null object\n",
      "vote_count              10866 non-null int64\n",
      "vote_average            10866 non-null float64\n",
      "release_year            10866 non-null int64\n",
      "budget_adj              10866 non-null float64\n",
      "revenue_adj             10866 non-null float64\n",
      "dtypes: float64(4), int64(6), object(11)\n",
      "memory usage: 1.7+ MB\n"
     ]
    }
   ],
   "source": [
    "task3_name=pd.read_csv('movies.csv')#读取数据\n",
    "task3_name.info()#查看表中数据类型，数据缺失情况"
   ]
  },
  {
   "cell_type": "markdown",
   "metadata": {},
   "source": [
    "由于想要了解的问题是\n",
    "- 问题 1：电影类型是如何随着时间的推移发生变化的？\n",
    "- 问题 2：Universal Pictures 和 Paramount Pictures 之间的对比情况如何？\n",
    "- 问题 3：改编电影和原创电影的对比情况如何？(通过keywords变量中的based on novel字段来判断)\n",
    "- 问题 4: 由谁导演的什么类型电影更易收到欢迎？  "
   ]
  },
  {
   "cell_type": "code",
   "execution_count": 3,
   "metadata": {
    "collapsed": false
   },
   "outputs": [],
   "source": [
    "#['homepage','tagline','overview']对结果影响不大,进行删除:\n",
    "task3_name=task3_name.drop(['homepage','tagline','overview'],axis=1)"
   ]
  },
  {
   "cell_type": "code",
   "execution_count": 4,
   "metadata": {
    "collapsed": false
   },
   "outputs": [
    {
     "name": "stdout",
     "output_type": "stream",
     "text": [
      "<class 'pandas.core.frame.DataFrame'>\n",
      "Int64Index: 8665 entries, 0 to 10865\n",
      "Data columns (total 18 columns):\n",
      "id                      8665 non-null int64\n",
      "imdb_id                 8665 non-null object\n",
      "popularity              8665 non-null float64\n",
      "budget                  8665 non-null int64\n",
      "revenue                 8665 non-null int64\n",
      "original_title          8665 non-null object\n",
      "cast                    8665 non-null object\n",
      "director                8665 non-null object\n",
      "keywords                8665 non-null object\n",
      "runtime                 8665 non-null int64\n",
      "genres                  8665 non-null object\n",
      "production_companies    8665 non-null object\n",
      "release_date            8665 non-null object\n",
      "vote_count              8665 non-null int64\n",
      "vote_average            8665 non-null float64\n",
      "release_year            8665 non-null int64\n",
      "budget_adj              8665 non-null float64\n",
      "revenue_adj             8665 non-null float64\n",
      "dtypes: float64(4), int64(6), object(8)\n",
      "memory usage: 1.3+ MB\n"
     ]
    }
   ],
   "source": [
    "new_task3_name=task3_name.dropna()#删除空值\n",
    "new_task3_name.info()"
   ]
  },
  {
   "cell_type": "markdown",
   "metadata": {},
   "source": [
    "经过处理,得到8665条数据."
   ]
  },
  {
   "cell_type": "code",
   "execution_count": 5,
   "metadata": {
    "collapsed": false
   },
   "outputs": [
    {
     "data": {
      "text/html": [
       "<div>\n",
       "<style>\n",
       "    .dataframe thead tr:only-child th {\n",
       "        text-align: right;\n",
       "    }\n",
       "\n",
       "    .dataframe thead th {\n",
       "        text-align: left;\n",
       "    }\n",
       "\n",
       "    .dataframe tbody tr th {\n",
       "        vertical-align: top;\n",
       "    }\n",
       "</style>\n",
       "<table border=\"1\" class=\"dataframe\">\n",
       "  <thead>\n",
       "    <tr style=\"text-align: right;\">\n",
       "      <th></th>\n",
       "      <th>id</th>\n",
       "      <th>imdb_id</th>\n",
       "      <th>popularity</th>\n",
       "      <th>budget</th>\n",
       "      <th>revenue</th>\n",
       "      <th>original_title</th>\n",
       "      <th>cast</th>\n",
       "      <th>director</th>\n",
       "      <th>keywords</th>\n",
       "      <th>runtime</th>\n",
       "      <th>genres</th>\n",
       "      <th>production_companies</th>\n",
       "      <th>release_date</th>\n",
       "      <th>vote_count</th>\n",
       "      <th>vote_average</th>\n",
       "      <th>release_year</th>\n",
       "      <th>budget_adj</th>\n",
       "      <th>revenue_adj</th>\n",
       "    </tr>\n",
       "  </thead>\n",
       "  <tbody>\n",
       "    <tr>\n",
       "      <th>0</th>\n",
       "      <td>135397</td>\n",
       "      <td>tt0369610</td>\n",
       "      <td>32.985763</td>\n",
       "      <td>150000000</td>\n",
       "      <td>1513528810</td>\n",
       "      <td>Jurassic World</td>\n",
       "      <td>Chris Pratt|Bryce Dallas Howard|Irrfan Khan|Vi...</td>\n",
       "      <td>Colin Trevorrow</td>\n",
       "      <td>monster|dna|tyrannosaurus rex|velociraptor|island</td>\n",
       "      <td>124</td>\n",
       "      <td>Action|Adventure|Science Fiction|Thriller</td>\n",
       "      <td>Universal Studios|Amblin Entertainment|Legenda...</td>\n",
       "      <td>2015-06-09</td>\n",
       "      <td>5562</td>\n",
       "      <td>6.5</td>\n",
       "      <td>2015</td>\n",
       "      <td>1.379999e+08</td>\n",
       "      <td>1.392446e+09</td>\n",
       "    </tr>\n",
       "    <tr>\n",
       "      <th>1</th>\n",
       "      <td>76341</td>\n",
       "      <td>tt1392190</td>\n",
       "      <td>28.419936</td>\n",
       "      <td>150000000</td>\n",
       "      <td>378436354</td>\n",
       "      <td>Mad Max: Fury Road</td>\n",
       "      <td>Tom Hardy|Charlize Theron|Hugh Keays-Byrne|Nic...</td>\n",
       "      <td>George Miller</td>\n",
       "      <td>future|chase|post-apocalyptic|dystopia|australia</td>\n",
       "      <td>120</td>\n",
       "      <td>Action|Adventure|Science Fiction|Thriller</td>\n",
       "      <td>Village Roadshow Pictures|Kennedy Miller Produ...</td>\n",
       "      <td>2015-05-13</td>\n",
       "      <td>6185</td>\n",
       "      <td>7.1</td>\n",
       "      <td>2015</td>\n",
       "      <td>1.379999e+08</td>\n",
       "      <td>3.481613e+08</td>\n",
       "    </tr>\n",
       "    <tr>\n",
       "      <th>2</th>\n",
       "      <td>262500</td>\n",
       "      <td>tt2908446</td>\n",
       "      <td>13.112507</td>\n",
       "      <td>110000000</td>\n",
       "      <td>295238201</td>\n",
       "      <td>Insurgent</td>\n",
       "      <td>Shailene Woodley|Theo James|Kate Winslet|Ansel...</td>\n",
       "      <td>Robert Schwentke</td>\n",
       "      <td>based on novel|revolution|dystopia|sequel|dyst...</td>\n",
       "      <td>119</td>\n",
       "      <td>Adventure|Science Fiction|Thriller</td>\n",
       "      <td>Summit Entertainment|Mandeville Films|Red Wago...</td>\n",
       "      <td>2015-03-18</td>\n",
       "      <td>2480</td>\n",
       "      <td>6.3</td>\n",
       "      <td>2015</td>\n",
       "      <td>1.012000e+08</td>\n",
       "      <td>2.716190e+08</td>\n",
       "    </tr>\n",
       "    <tr>\n",
       "      <th>3</th>\n",
       "      <td>140607</td>\n",
       "      <td>tt2488496</td>\n",
       "      <td>11.173104</td>\n",
       "      <td>200000000</td>\n",
       "      <td>2068178225</td>\n",
       "      <td>Star Wars: The Force Awakens</td>\n",
       "      <td>Harrison Ford|Mark Hamill|Carrie Fisher|Adam D...</td>\n",
       "      <td>J.J. Abrams</td>\n",
       "      <td>android|spaceship|jedi|space opera|3d</td>\n",
       "      <td>136</td>\n",
       "      <td>Action|Adventure|Science Fiction|Fantasy</td>\n",
       "      <td>Lucasfilm|Truenorth Productions|Bad Robot</td>\n",
       "      <td>2015-12-15</td>\n",
       "      <td>5292</td>\n",
       "      <td>7.5</td>\n",
       "      <td>2015</td>\n",
       "      <td>1.839999e+08</td>\n",
       "      <td>1.902723e+09</td>\n",
       "    </tr>\n",
       "    <tr>\n",
       "      <th>4</th>\n",
       "      <td>168259</td>\n",
       "      <td>tt2820852</td>\n",
       "      <td>9.335014</td>\n",
       "      <td>190000000</td>\n",
       "      <td>1506249360</td>\n",
       "      <td>Furious 7</td>\n",
       "      <td>Vin Diesel|Paul Walker|Jason Statham|Michelle ...</td>\n",
       "      <td>James Wan</td>\n",
       "      <td>car race|speed|revenge|suspense|car</td>\n",
       "      <td>137</td>\n",
       "      <td>Action|Crime|Thriller</td>\n",
       "      <td>Universal Pictures|Original Film|Media Rights ...</td>\n",
       "      <td>2015-04-01</td>\n",
       "      <td>2947</td>\n",
       "      <td>7.3</td>\n",
       "      <td>2015</td>\n",
       "      <td>1.747999e+08</td>\n",
       "      <td>1.385749e+09</td>\n",
       "    </tr>\n",
       "  </tbody>\n",
       "</table>\n",
       "</div>"
      ],
      "text/plain": [
       "       id    imdb_id  popularity     budget     revenue  \\\n",
       "0  135397  tt0369610   32.985763  150000000  1513528810   \n",
       "1   76341  tt1392190   28.419936  150000000   378436354   \n",
       "2  262500  tt2908446   13.112507  110000000   295238201   \n",
       "3  140607  tt2488496   11.173104  200000000  2068178225   \n",
       "4  168259  tt2820852    9.335014  190000000  1506249360   \n",
       "\n",
       "                 original_title  \\\n",
       "0                Jurassic World   \n",
       "1            Mad Max: Fury Road   \n",
       "2                     Insurgent   \n",
       "3  Star Wars: The Force Awakens   \n",
       "4                     Furious 7   \n",
       "\n",
       "                                                cast          director  \\\n",
       "0  Chris Pratt|Bryce Dallas Howard|Irrfan Khan|Vi...   Colin Trevorrow   \n",
       "1  Tom Hardy|Charlize Theron|Hugh Keays-Byrne|Nic...     George Miller   \n",
       "2  Shailene Woodley|Theo James|Kate Winslet|Ansel...  Robert Schwentke   \n",
       "3  Harrison Ford|Mark Hamill|Carrie Fisher|Adam D...       J.J. Abrams   \n",
       "4  Vin Diesel|Paul Walker|Jason Statham|Michelle ...         James Wan   \n",
       "\n",
       "                                            keywords  runtime  \\\n",
       "0  monster|dna|tyrannosaurus rex|velociraptor|island      124   \n",
       "1   future|chase|post-apocalyptic|dystopia|australia      120   \n",
       "2  based on novel|revolution|dystopia|sequel|dyst...      119   \n",
       "3              android|spaceship|jedi|space opera|3d      136   \n",
       "4                car race|speed|revenge|suspense|car      137   \n",
       "\n",
       "                                      genres  \\\n",
       "0  Action|Adventure|Science Fiction|Thriller   \n",
       "1  Action|Adventure|Science Fiction|Thriller   \n",
       "2         Adventure|Science Fiction|Thriller   \n",
       "3   Action|Adventure|Science Fiction|Fantasy   \n",
       "4                      Action|Crime|Thriller   \n",
       "\n",
       "                                production_companies release_date  vote_count  \\\n",
       "0  Universal Studios|Amblin Entertainment|Legenda...   2015-06-09        5562   \n",
       "1  Village Roadshow Pictures|Kennedy Miller Produ...   2015-05-13        6185   \n",
       "2  Summit Entertainment|Mandeville Films|Red Wago...   2015-03-18        2480   \n",
       "3          Lucasfilm|Truenorth Productions|Bad Robot   2015-12-15        5292   \n",
       "4  Universal Pictures|Original Film|Media Rights ...   2015-04-01        2947   \n",
       "\n",
       "   vote_average  release_year    budget_adj   revenue_adj  \n",
       "0           6.5          2015  1.379999e+08  1.392446e+09  \n",
       "1           7.1          2015  1.379999e+08  3.481613e+08  \n",
       "2           6.3          2015  1.012000e+08  2.716190e+08  \n",
       "3           7.5          2015  1.839999e+08  1.902723e+09  \n",
       "4           7.3          2015  1.747999e+08  1.385749e+09  "
      ]
     },
     "execution_count": 5,
     "metadata": {},
     "output_type": "execute_result"
    }
   ],
   "source": [
    "#查看数据表:\n",
    "new_task3_name.head()"
   ]
  },
  {
   "cell_type": "markdown",
   "metadata": {},
   "source": [
    "### 问题 1：电影类型是如何随着时间的推移发生变化的？"
   ]
  },
  {
   "cell_type": "code",
   "execution_count": 6,
   "metadata": {
    "collapsed": false
   },
   "outputs": [],
   "source": [
    "#相关列为[genres],[release_date]. genres列中存在'|',将其进行处理:\n",
    "split_genres=new_task3_name['genres'].str.split('|',expand=True)#分离genres\n",
    "split_genres['id']=new_task3_name['id']#将[id]列复制\n",
    "merged_q1=pd.merge(new_task3_name,split_genres,on=['id'])#合并原始数据和拆分的genres\n",
    "q1=pd.melt(merged_q1,id_vars=['id','release_year'],value_vars=[0,1,2,3,4],value_name='genres').drop('variable',axis=1).dropna()#将根据id和release_year,把类型一列融合\n",
    "q1.to_csv('q1.csv',index=False,encoding='utf_8_sig')#将其导出为csv"
   ]
  },
  {
   "cell_type": "code",
   "execution_count": 7,
   "metadata": {
    "collapsed": false
   },
   "outputs": [
    {
     "data": {
      "text/plain": [
       "'https://public.tableau.com/profile/.80136852#!/vizhome/q1_12/q1'"
      ]
     },
     "execution_count": 7,
     "metadata": {},
     "output_type": "execute_result"
    }
   ],
   "source": [
    "#将q1导入Tableau进行可视化:\n",
    "q1dashboard=\"https://public.tableau.com/profile/.80136852#!/vizhome/q1_12/q1\"\n",
    "q1dashboard"
   ]
  },
  {
   "cell_type": "markdown",
   "metadata": {},
   "source": [
    "将q1与原始数据movies取交集后导入Tableau：\n",
    "1. \t作时间随类别的折线图，清楚看清变化趋势\n",
    "2. \t各类别收入和受欢迎程度对比\n",
    "\n",
    "#### 结论:\n",
    "- 随着时间的推移，Drama ,Comdy ,Thriller ,Action , Ramance增长幅度较大\n",
    "- 随着时间的推移，Foreign ,TV Movie ,Wenstern 增长趋势很慢\n",
    "- 各个类别的受欢迎度与其收入正相关。\n",
    "- 在类别中选择增长趋势明显的前5项:Action ,Adventure , Comdy ,Drama , Thriller \n",
    "- 与上面折线图相比，发现Adventure类受欢迎程度与收入都较高，但增长幅度相对不大；Ramance类增加幅度大，但受欢迎程度和收入不大。"
   ]
  },
  {
   "cell_type": "markdown",
   "metadata": {},
   "source": [
    "### 问题 2：Universal Pictures 和 Paramount Pictures 之间的对比情况如何？"
   ]
  },
  {
   "cell_type": "code",
   "execution_count": 8,
   "metadata": {
    "collapsed": false
   },
   "outputs": [],
   "source": [
    "#同上,首先进行数据处理\n",
    "split_companies = new_task3_name['production_companies'].str.split('|',expand=True)#分离出production_companies\n",
    "split_companies['id']=new_task3_name['id']\n",
    "merged_q2=new_task3_name.merge(split_companies)#将原始数据和分离出的电影公司合并为新的数据集\n",
    "q2=pd.melt(merged_q2,id_vars=['id'],value_vars=[0,1,2,3,4],value_name='production companies').drop('variable',axis=1).dropna()\n",
    "q2=q2[(q2['production companies']=='Paramount Pictures')|(q2['production companies']=='Universal Pictures')]#筛选出Universal Pictures 和 Paramount Pictures \n",
    "q2.to_csv('q2.csv',index=False,encoding='utf_8_sig')#另存q2表示此数据集"
   ]
  },
  {
   "cell_type": "code",
   "execution_count": 9,
   "metadata": {
    "collapsed": false
   },
   "outputs": [
    {
     "data": {
      "text/plain": [
       "'https://public.tableau.com/profile/.80136852#!/vizhome/q2_14/q2'"
      ]
     },
     "execution_count": 9,
     "metadata": {},
     "output_type": "execute_result"
    }
   ],
   "source": [
    "#将q2导入Tableau进行可视化:\n",
    "q2dashboard=\"https://public.tableau.com/profile/.80136852#!/vizhome/q2_14/q2\"\n",
    "q2dashboard"
   ]
  },
  {
   "cell_type": "markdown",
   "metadata": {},
   "source": [
    "将q2与原始数据movies取交集后导入Tableau：\n",
    "1.\t对比两公司在总计欢迎度和总收入之间的区别\n",
    "2.\t随着时间变化，对比两公司在平均欢迎度和平均收入之间的区别\n",
    "\n",
    "#### 结论:\n",
    "- 环球影业拍摄电影更多\n",
    "- 环球影业总收入和受欢迎程度更高\n",
    "- 派拉蒙影业平均收入和平均受欢迎程度略高\n"
   ]
  },
  {
   "cell_type": "markdown",
   "metadata": {},
   "source": [
    "### 问题 3：改编电影和原创电影的对比情况如何?"
   ]
  },
  {
   "cell_type": "code",
   "execution_count": 10,
   "metadata": {
    "collapsed": true
   },
   "outputs": [],
   "source": [
    "split_novel = new_task3_name['keywords'].str.split('|',expand=True)#同上,将关键字进行分离\n",
    "split_novel['id']=new_task3_name['id']\n",
    "\n",
    "#如果关键字中包含based on novel ,取1 ,否则取0\n",
    "def if_novel(x):\n",
    "    if x=='based on novel':\n",
    "        return 1\n",
    "    else:\n",
    "        return 0\n",
    "#分离出的0 1 2 3 4 每列使用上述构建函数判断是否为1,将其求和\n",
    "split_novel['base on novel'] = split_novel[0].apply(if_novel)+split_novel[1].apply(if_novel)+split_novel[2].apply(if_novel)+split_novel[3].apply(if_novel)+split_novel[4].apply(if_novel)\n",
    "#将id 和base on novel 两列另存为q3\n",
    "split_novel[['id','base on novel']].to_csv('q3.csv',index=False,encoding='utf_8_sig')"
   ]
  },
  {
   "cell_type": "code",
   "execution_count": 11,
   "metadata": {
    "collapsed": false
   },
   "outputs": [
    {
     "data": {
      "text/plain": [
       "'https://public.tableau.com/profile/.80136852#!/vizhome/q3_7/q3'"
      ]
     },
     "execution_count": 11,
     "metadata": {},
     "output_type": "execute_result"
    }
   ],
   "source": [
    "#将q3导入Tableau进行可视化:\n",
    "q3dashboard=\"https://public.tableau.com/profile/.80136852#!/vizhome/q3_7/q3\"\n",
    "q3dashboard"
   ]
  },
  {
   "cell_type": "markdown",
   "metadata": {},
   "source": [
    "将q3与原始数据movies取交集后导入Tableau：\n",
    "1.\t作收入和记录数随时间变化折线\n",
    "2.\t分别对比两中类别在平均欢迎度和平均收入之间的区别\n",
    "\n",
    "#### 结论\n",
    "-\t随着时间推移，小说改编类电影增长幅度较小，但一直稳步增长\n",
    "-\t非小说改编类电影的总收入是小说改编类总收入的17倍\n",
    "-\t非小说改编类电影总计受欢迎程度是小说改编类总受欢迎程度的19倍\n",
    "-\t非小说改编类电影总数目是小说改编类总数目的30倍\n",
    "-\t小说改编类平均收入是非改编类的1.8倍\n",
    "-\t小说改编类受欢迎程度是非改编类的1.6倍\n",
    "- 使用tableau story 表明此问题:https://public.tableau.com/profile/.80136852#!/vizhome/q3_7/Q3-story"
   ]
  },
  {
   "cell_type": "markdown",
   "metadata": {},
   "source": []
  },
  {
   "cell_type": "markdown",
   "metadata": {},
   "source": [
    "### 问题 4: 由谁导演的什么类型电影更易收到欢迎？"
   ]
  },
  {
   "cell_type": "code",
   "execution_count": 12,
   "metadata": {
    "collapsed": false
   },
   "outputs": [],
   "source": [
    "split_cast=new_task3_name['director'].str.split('|',expand=True)#同上,根据'|'将数据分离\n",
    "split_cast['id']=new_task3_name['id']\n",
    "\n",
    "merged_q4=pd.merge(new_task3_name,split_cast,on=['id'])#与原始数据合并\n",
    "q4=pd.melt(merged_q4,id_vars=['id'],value_vars=[0,1,2,3,4],value_name='regisseur').drop('variable',axis=1).dropna()#regisseur合并为一列\n",
    "q4.to_csv('q4.csv',index=False,encoding='utf_8_sig')#输出表格"
   ]
  },
  {
   "cell_type": "code",
   "execution_count": 13,
   "metadata": {
    "collapsed": false
   },
   "outputs": [
    {
     "data": {
      "text/plain": [
       "'https://public.tableau.com/profile/.80136852#!/vizhome/q4_3/sheet1?publish=yes'"
      ]
     },
     "execution_count": 13,
     "metadata": {},
     "output_type": "execute_result"
    }
   ],
   "source": [
    "#将q4导入Tableau进行可视化:\n",
    "q4dashboard=\"https://public.tableau.com/profile/.80136852#!/vizhome/q4_3/sheet1?publish=yes\"\n",
    "q4dashboard"
   ]
  },
  {
   "cell_type": "markdown",
   "metadata": {},
   "source": [
    "将q3与原始数据movies、q1分别取交集后导入Tableau：\n",
    "- 创建计算字段为导演打分"
   ]
  },
  {
   "cell_type": "markdown",
   "metadata": {},
   "source": [
    "#### 结论:\n",
    "从问题1可得，最受欢迎的五个种类为：Drama ,Action,Comedy ,Thriller ,Adventure，一部受欢迎的好电影由多方面因素决定，既然是新公司，电影由谁导演很重要，故先人为确定导演们的受欢迎程度权重为0.5；另一方面，新公司资金不足，预算很重要，先预设其权重为0.2；最后，根据导演以前电影的收入可以大概估计导演水平，设其权重为0.3；开始计算导演得分，得到最合适的前5名的导演分别为：Steven Spielberg ,Peter Jackson ,Michael Bay ,Christopher Nolan ,James Cameron。"
   ]
  },
  {
   "cell_type": "markdown",
   "metadata": {},
   "source": [
    "### 注意：\n",
    "- \t计算过程中仅使用平均值，统计结果可能不准确。\n",
    "-\tQ4交Q1，导致数据增多,导致数据不准确。\n",
    "-\t问题3中直接得出倍数，可能会引起客户疑问。\n",
    "-\t问题4设置权重为结合平时生活自行设置，可能不准确。\n"
   ]
  }
 ],
 "metadata": {
  "kernelspec": {
   "display_name": "Python 3",
   "language": "python",
   "name": "python3"
  },
  "language_info": {
   "codemirror_mode": {
    "name": "ipython",
    "version": 3
   },
   "file_extension": ".py",
   "mimetype": "text/x-python",
   "name": "python",
   "nbconvert_exporter": "python",
   "pygments_lexer": "ipython3",
   "version": "3.6.0"
  }
 },
 "nbformat": 4,
 "nbformat_minor": 2
}
